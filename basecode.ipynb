{
 "cells": [
  {
   "cell_type": "markdown",
   "metadata": {},
   "source": [
    "# Import Dataset and Libraries"
   ]
  },
  {
   "cell_type": "code",
   "execution_count": 264,
   "metadata": {},
   "outputs": [],
   "source": [
    "# Standarc library imports\n",
    "from collections import defaultdict\n",
    "from random import randrange\n",
    "from tqdm import tqdm\n",
    "from typing import Any\n",
    "import warnings\n",
    "\n",
    "# Third-party imports\n",
    "# from imblearn.over_sampling import SMOTE\n",
    "import matplotlib.pyplot as plt\n",
    "import numpy as np\n",
    "import pandas as pd\n",
    "import seaborn as sns\n",
    "from statsmodels.stats.outliers_influence import variance_inflation_factor as vif_func\n",
    "\n",
    "# Scikit-learn imports\n",
    "from sklearn.compose import ColumnTransformer\n",
    "from sklearn.metrics import (\n",
    "    confusion_matrix, hamming_loss, jaccard_score,\n",
    "    accuracy_score, f1_score, precision_score, recall_score, roc_auc_score\n",
    ")\n",
    "from sklearn.model_selection import cross_val_score, StratifiedKFold, train_test_split\n",
    "from sklearn.pipeline import Pipeline\n",
    "from sklearn.preprocessing import LabelEncoder, MultiLabelBinarizer, OneHotEncoder, OrdinalEncoder, StandardScaler\n",
    "\n",
    "DO_OPTIMIZATION = False\n",
    "RANDOM_STATE = 42\n",
    "TEST_SIZE = 0.2\n",
    "ROYALBLUE = \"#4169E1\""
   ]
  },
  {
   "cell_type": "code",
   "execution_count": 265,
   "metadata": {},
   "outputs": [],
   "source": [
    "warnings.filterwarnings(action='ignore')    # 주피터 노트북 에러 로그 무시하는 코드\n",
    "plt.rc('font', family='Malgun Gothic')      # plt로 한글 폰트 사용하는 코드\n",
    "pd.set_option('display.max_columns', None)  # 데이터프레임의 모든 열을 출력하는 코드"
   ]
  },
  {
   "cell_type": "code",
   "execution_count": 266,
   "metadata": {},
   "outputs": [],
   "source": [
    "STD_PATH = \".\"\n",
    "TRAIN_FILE = f\"{STD_PATH}/train.csv\"\n",
    "TEST_FILE = f\"{STD_PATH}/test.csv\"\n",
    "\n",
    "df_train = pd.read_csv(TRAIN_FILE)\n",
    "df_test = pd.read_csv(TEST_FILE)\n",
    "\n",
    "is_pregnant = df_train.columns[-1]\n",
    "X, y = df_train.drop(is_pregnant, axis=1), df_train[is_pregnant]\n",
    "X_test = df_test.drop(is_pregnant, axis=1) if is_pregnant in df_test else df_test.copy()"
   ]
  },
  {
   "cell_type": "markdown",
   "metadata": {},
   "source": [
    "# EDA"
   ]
  },
  {
   "cell_type": "code",
   "execution_count": 267,
   "metadata": {},
   "outputs": [],
   "source": [
    "def draw_imbalance_barplot(df: pd.DataFrame, title: str, width: int=10, height: int=2) -> None:\n",
    "    df[title].value_counts().plot.bar(\n",
    "        color='royalblue',\n",
    "        figsize = (width, height),\n",
    "    )    \n",
    "    plt.title(title)\n",
    "    plt.xlabel(f\"{title} 컬럼의 데이터 종류\")\n",
    "    plt.ylabel('데이터 개수')\n",
    "    plt.grid(True, linestyle='--', linewidth=0.3, axis='y')\n",
    "    return"
   ]
  },
  {
   "cell_type": "code",
   "execution_count": 268,
   "metadata": {},
   "outputs": [
    {
     "data": {
      "image/png": "[encoded data removed]",
      "text/plain": [
       "<Figure size 1000x200 with 1 Axes>"
      ]
     },
     "metadata": {},
     "output_type": "display_data"
    }
   ],
   "source": [
    "# 테스트용 그래프 그리기(무작위 컬럼)\n",
    "random_column = X.columns.tolist()[randrange(1, len(X.columns.tolist()))]\n",
    "draw_imbalance_barplot(X, random_column)"
   ]
  },
  {
   "cell_type": "code",
   "execution_count": 269,
   "metadata": {},
   "outputs": [],
   "source": [
    "def draw_heatmap(df: pd.DataFrame, method: str='pearson', width: int=8, height: int=8) -> None:\n",
    "    # method: pearson(default), kendall, spearman\n",
    "    # interpolation: None(default), nearest, bilinear, bicubic, gaussian, hanning, hamming, lanczos, none\n",
    "    \n",
    "    corr_matrix = df.corr(method=method)\n",
    "    mask = np.triu(np.ones_like(corr_matrix, dtype=bool))    \n",
    "    plt.figure(figsize=(width, height))\n",
    "    sns.heatmap(corr_matrix, mask=mask, annot=True, fmt=\".2f\", cmap='coolwarm', square=True, linewidths=.5)\n",
    "    return"
   ]
  },
  {
   "cell_type": "code",
   "execution_count": 270,
   "metadata": {},
   "outputs": [],
   "source": [
    "# # 테스트용 그래프 그리기\n",
    "# draw_heatmap(X, width=50, height=50)"
   ]
  },
  {
   "cell_type": "code",
   "execution_count": 271,
   "metadata": {},
   "outputs": [],
   "source": [
    "# 범주형 변수이되, 범주 정보가 0: False, 1: True인 column들\n",
    "categorical_int64_columns = [\n",
    "    '단일 배아 이식 여부',\n",
    "    '착상 전 유전 검사 사용 여부',\n",
    "    '착상 전 유전 진단 사용 여부',\n",
    "    '동결 배아 사용 여부',\n",
    "    '신선 배아 사용 여부',\n",
    "    '기증 배아 사용 여부',\n",
    "    '대리모 여부',\n",
    "    'PGD 시술 여부',\n",
    "    'PGS 시술 여부',\n",
    "    '배란 자극 여부',\n",
    "    '남성 주 불임 원인',\n",
    "    '남성 부 불임 원인',\n",
    "    '여성 주 불임 원인',\n",
    "    '여성 부 불임 원인',\n",
    "    '부부 주 불임 원인',\n",
    "    '부부 부 불임 원인',\n",
    "    '불명확 불임 원인',\n",
    "    '불임 원인 - 난관 질환',\n",
    "    '불임 원인 - 남성 요인',\n",
    "    '불임 원인 - 배란 장애',\n",
    "    '불임 원인 - 여성 요인',\n",
    "    '불임 원인 - 자궁경부 문제',\n",
    "    '불임 원인 - 자궁내막증',\n",
    "    '불임 원인 - 정자 농도',\n",
    "    '불임 원인 - 정자 면역학적 요인',\n",
    "    '불임 원인 - 정자 운동성',\n",
    "    '불임 원인 - 정자 형태'    \n",
    "]"
   ]
  },
  {
   "cell_type": "code",
   "execution_count": 272,
   "metadata": {},
   "outputs": [],
   "source": [
    "float64_columns = list(set(X.select_dtypes(include='float64').columns.tolist()) - set(categorical_int64_columns))\n",
    "# int64_columns = X.select_dtypes(include='int64').columns.tolist()\n",
    "object_columns = X.select_dtypes(include='O').columns.tolist()"
   ]
  },
  {
   "cell_type": "markdown",
   "metadata": {},
   "source": [
    "# Data Preprocessing"
   ]
  },
  {
   "cell_type": "markdown",
   "metadata": {},
   "source": [
    "### 1. Feature Cleaning"
   ]
  },
  {
   "cell_type": "code",
   "execution_count": 273,
   "metadata": {},
   "outputs": [],
   "source": [
    "# \"\"\"\n",
    "# - Missing values(drop, mean, median, mode, KNNImputer, MICE)\n",
    "# - Outliers (IQR, log)\n",
    "# - Feature selection(remove duplicates, VIF)\n",
    "# \"\"\""
   ]
  },
  {
   "cell_type": "code",
   "execution_count": 274,
   "metadata": {},
   "outputs": [],
   "source": [
    "values = {\n",
    "    **{column: 0 for column in float64_columns},\n",
    "    **{column: 0 for column in categorical_int64_columns},\n",
    "    # **{column: \"0\" for column in object_columns}\n",
    "}\n",
    "\n",
    "X.fillna(value=values, inplace=True)\n",
    "X_test.fillna(value=values, inplace=True)"
   ]
  },
  {
   "cell_type": "markdown",
   "metadata": {},
   "source": [
    "#### Feature Cleaning - 시술 시기코드(1) "
   ]
  },
  {
   "cell_type": "code",
   "execution_count": 275,
   "metadata": {},
   "outputs": [],
   "source": [
    "# 시기 코드는 ID처럼 구분을 위한 컬럼이라고 판단, drop하기로 결정"
   ]
  },
  {
   "cell_type": "markdown",
   "metadata": {},
   "source": [
    "#### Feature Cleaning - 배란 유도 유형(7)"
   ]
  },
  {
   "cell_type": "code",
   "execution_count": 276,
   "metadata": {},
   "outputs": [],
   "source": [
    "# X['배란 유도 유형'].value_counts().tolist()\n",
    "# X_test['배란 유도 유형'].value_counts().tolist()\n",
    "# value_counts() 결과, train과 test를 통틀어서 유의미한 데이터는 단 2건, 따라서 drop하기로 결정"
   ]
  },
  {
   "cell_type": "markdown",
   "metadata": {},
   "source": [
    "### 2. Feature Engineering"
   ]
  },
  {
   "cell_type": "code",
   "execution_count": 277,
   "metadata": {},
   "outputs": [],
   "source": [
    "# \"\"\"\n",
    "# - Feature Creation\n",
    "# - Feature Transformation(log, sqrt, min-max scaling)\n",
    "# - Feature Extraction(PCA, LDA, heatmap)\n",
    "# \"\"\""
   ]
  },
  {
   "cell_type": "markdown",
   "metadata": {},
   "source": [
    "#### Feature Engineering - 임신 시도 또는 마지막 임신 경과 연수(3)"
   ]
  },
  {
   "cell_type": "code",
   "execution_count": 278,
   "metadata": {},
   "outputs": [],
   "source": [
    "# float64 컬럼"
   ]
  },
  {
   "cell_type": "markdown",
   "metadata": {},
   "source": [
    "#### Feature Engineering - 총 시술 횟수(29) ~ DI 출산 횟수(38)"
   ]
  },
  {
   "cell_type": "code",
   "execution_count": 279,
   "metadata": {},
   "outputs": [],
   "source": [
    "# 이진 분류기의 최종 목표는 '임신 성공 여부'이기에, 출산 횟수는 전부 drop한다.\n",
    "# 또한 IVF와 DI의 차이보다는 총 횟수에 중점을 두어 계산한다. (plot().bar()로 분포 차이를 보았을 때 무의미하다 판단)\n",
    "# 따라서 최종 사용하는 컬럼은 '총 시술 횟수'와 '총 임신 횟수' 2개다.\n",
    "# 이떄 '총 임신 횟수' / '총 시술 횟수'로 '시술 대비 임신 성공률' 컬럼을 파생 변수로 사용한다.\n",
    "\n",
    "# 주의할 점은 np.nan와 0의 차이이다.\n",
    "# 총 시술 횟수가 0인 경우, 0으로 나눌 수 없기에(시술 횟수 자체가 0이기에) np.nan이 나온다.\n",
    "# 하지만 총 임신 횟수만 0인 경우(시술은 했지만 임신하지 못 한 경우), NaN이 아니라 0이 나온다.\n",
    "# 둘 다 '실패'로 간주하여 0으로 처리한다. 더 나은 방법이 있다면 차후 변경\n",
    "def get_int(data: str) -> int:\n",
    "    return int(data[0])\n",
    "\n",
    "X_pregnancy = rate = X['총 임신 횟수'].map(get_int) / X['총 시술 횟수'].map(get_int)\n",
    "X['시술 대비 임신 성공률'] = X_pregnancy.fillna(0.0)\n",
    "X_test_pregnancy = rate = X_test['총 임신 횟수'].map(get_int) / X_test['총 시술 횟수'].map(get_int)\n",
    "X_test['시술 대비 임신 성공률'] = X_test_pregnancy.fillna(0.0)"
   ]
  },
  {
   "cell_type": "markdown",
   "metadata": {},
   "source": [
    "#### Feature Engineering - 총 생성 배아 수(39) ~ 기증자 정자와 혼합된 난자 수(52) "
   ]
  },
  {
   "cell_type": "code",
   "execution_count": 280,
   "metadata": {},
   "outputs": [],
   "source": [
    "# float64 컬럼"
   ]
  },
  {
   "cell_type": "markdown",
   "metadata": {},
   "source": [
    "#### Feature Engineering - 난자 채취 경과일(63) ~ 배아 해동 경과일(67)"
   ]
  },
  {
   "cell_type": "code",
   "execution_count": 281,
   "metadata": {},
   "outputs": [],
   "source": [
    "# float64 컬럼"
   ]
  },
  {
   "cell_type": "markdown",
   "metadata": {},
   "source": [
    "### 3. Feature Encoding"
   ]
  },
  {
   "cell_type": "code",
   "execution_count": 282,
   "metadata": {},
   "outputs": [],
   "source": [
    "# \"\"\"\n",
    "# - LabelEncoder, OneHotEncoder, OrdinalEncoder, StandardScaler\n",
    "# \"\"\""
   ]
  },
  {
   "cell_type": "markdown",
   "metadata": {},
   "source": [
    "#### Feature Encoding - Categorical int64 columns"
   ]
  },
  {
   "cell_type": "code",
   "execution_count": 283,
   "metadata": {},
   "outputs": [],
   "source": [
    "# 배란 자극 여부(6), 단일 배아 이식 여부(8) ~ 불임 원인 - 정자 형태(27), 동결 배아 사용 여부(57) ~ PGS 시술 여부(62)"
   ]
  },
  {
   "cell_type": "code",
   "execution_count": 284,
   "metadata": {},
   "outputs": [],
   "source": [
    "# 범주 정보가 0: False, 1: True인 column들 bool으로 타입 변환\n",
    "for column_name in categorical_int64_columns:\n",
    "    X[column_name] = X[column_name].astype(bool)\n",
    "    X_test[column_name] = X_test[column_name].astype(bool)"
   ]
  },
  {
   "cell_type": "markdown",
   "metadata": {},
   "source": [
    "#### Feature Encoding - 시술 당시 나이(2)"
   ]
  },
  {
   "cell_type": "code",
   "execution_count": 285,
   "metadata": {},
   "outputs": [],
   "source": [
    "# '알 수 없음' 데이터는 최빈값으로 처리\n",
    "X['시술 당시 나이'] = X['시술 당시 나이'].replace('알 수 없음', np.nan)\n",
    "X['시술 당시 나이'].fillna(X['시술 당시 나이'].mode()[0], inplace=True)\n",
    "X_test['시술 당시 나이'] = X_test['시술 당시 나이'].replace('알 수 없음', np.nan)\n",
    "X_test['시술 당시 나이'].fillna(X_test['시술 당시 나이'].mode()[0], inplace=True)\n",
    "\n",
    "# OrdinalEncoder 사용을 위해 나이 순서대로 order 준비\n",
    "custom_order = [sorted(X['시술 당시 나이'].value_counts().index.tolist())]\n",
    "encoder = OrdinalEncoder(categories=custom_order)\n",
    "\n",
    "# 나이(순서)를 반영하여 encoding 진행\n",
    "X['시술 당시 나이'] = encoder.fit_transform(X[['시술 당시 나이']])\n",
    "X_test['시술 당시 나이'] = encoder.fit_transform(X_test[['시술 당시 나이']])"
   ]
  },
  {
   "cell_type": "markdown",
   "metadata": {},
   "source": [
    "#### Feature Encoding - 시술 유형(4)"
   ]
  },
  {
   "cell_type": "code",
   "execution_count": 286,
   "metadata": {},
   "outputs": [],
   "source": [
    "# 시술 유형은 2가지(IVF와 DI)로 VIF 추론이 가능하므로 drop_first함\n",
    "encoder = OneHotEncoder(drop='first', sparse_output=False)\n",
    "\n",
    "# 2가지 데이터에 대해 처리했으므로 True와 False로 취급할 수 있다고 판단하였다.\n",
    "# 따라서, 메모리 개선을 위해 ohe로 transform한 값을 bool로 바꿔주었다.\n",
    "X['시술 유형'] = encoder.fit_transform(X[['시술 유형']]).astype(int).astype(bool)\n",
    "X_test['시술 유형'] = encoder.fit_transform(X_test[['시술 유형']]).astype(int).astype(bool)"
   ]
  },
  {
   "cell_type": "markdown",
   "metadata": {},
   "source": [
    "#### Feature Encoding - 특정 시술 유형(5)"
   ]
  },
  {
   "cell_type": "code",
   "execution_count": 287,
   "metadata": {},
   "outputs": [],
   "source": [
    "# Feature Cleaning\n",
    "X['특정 시술 유형'].fillna('0', inplace=True)\n",
    "X_test['특정 시술 유형'].fillna('0', inplace=True)\n",
    "\n",
    "# 복합 요소 떄문에 Multi-Label 인코딩을 진행\n",
    "mlb = MultiLabelBinarizer()\n",
    "\n",
    "# 정규화를 위한 정규표현식 dictionary\n",
    "replace_dict = {':': '/', ' ': '', '0': 'Unknown'}\n",
    "\n",
    "# 데이터 정규화\n",
    "X['특정 시술 유형'] = X['특정 시술 유형'].replace(replace_dict, regex=True).str.split('/')\n",
    "X_test['특정 시술 유형'] = X_test['특정 시술 유형'].replace(replace_dict, regex=True).str.split('/')\n",
    "\n",
    "# Multi-Label Encoding 진행 후 데이터프레임 병합\n",
    "X_encoded = mlb.fit_transform(X['특정 시술 유형'])\n",
    "X = pd.concat([X, pd.DataFrame(X_encoded, columns=mlb.classes_)], axis=1)\n",
    "X_test_encoded = mlb.fit_transform(X_test['특정 시술 유형'])\n",
    "X_test = pd.concat([X_test, pd.DataFrame(X_test_encoded, columns=mlb.classes_)], axis=1)"
   ]
  },
  {
   "cell_type": "code",
   "execution_count": 288,
   "metadata": {},
   "outputs": [],
   "source": [
    "# 데이터 drop에 사용할 column 이름 변수\n",
    "시술_유형_mlb_columns = mlb.classes_.tolist()"
   ]
  },
  {
   "cell_type": "markdown",
   "metadata": {},
   "source": [
    "#### Feature Encoding - 배아 생성 주요 이유(28)"
   ]
  },
  {
   "cell_type": "code",
   "execution_count": 289,
   "metadata": {},
   "outputs": [],
   "source": [
    "# Feature Cleaning\n",
    "X['배아 생성 주요 이유'].fillna('', inplace=True)\n",
    "X_test['배아 생성 주요 이유'].fillna('', inplace=True)\n",
    "\n",
    "# 복합 요소 떄문에 Multi-Label 인코딩을 진행\n",
    "mlb = MultiLabelBinarizer()\n",
    "\n",
    "# 정규화를 위한 정규표현식 dictionary\n",
    "replace_dict = {' ': ''}\n",
    "\n",
    "# 데이터 정규화\n",
    "X['배아 생성 주요 이유'] = X['배아 생성 주요 이유'].replace(replace_dict, regex=True).str.split(',')\n",
    "X_test['배아 생성 주요 이유'] = X_test['배아 생성 주요 이유'].replace(replace_dict, regex=True).str.split(',')\n",
    "\n",
    "# Multi-Label Encoding 진행 후 데이터프레임 병합\n",
    "X_encoded = pd.DataFrame(mlb.fit_transform(X['배아 생성 주요 이유']), columns=mlb.classes_).drop([\"\"], axis=1)\n",
    "X = pd.concat([X, X_encoded], axis=1)\n",
    "X_test_encoded = pd.DataFrame(mlb.fit_transform(X_test['배아 생성 주요 이유']), columns=mlb.classes_).drop([\"\"], axis=1)\n",
    "X_test = pd.concat([X_test, X_test_encoded], axis=1)"
   ]
  },
  {
   "cell_type": "code",
   "execution_count": 290,
   "metadata": {},
   "outputs": [],
   "source": [
    "# 데이터 drop에 사용할 column 이름 변수\n",
    "배아_생성_주요_이유_mlb_columns = mlb.classes_[1:]"
   ]
  },
  {
   "cell_type": "markdown",
   "metadata": {},
   "source": [
    "#### Feature Encoding - 난자 출처(53)"
   ]
  },
  {
   "cell_type": "code",
   "execution_count": 291,
   "metadata": {},
   "outputs": [],
   "source": [
    "# 난자 출처는 3가지 값(본인 제공, 기증 제공, 알 수 없음)만을 가지고 있다.\n",
    "# 순서가 존재하는 것도 아니고 column이 극단적으로 늘어나는 경우도 아니기에 OneHotEncoding(get_dummies)을 진행\n",
    "# 본인 제공 0, 기증 제공 0인 경우에는 자연스럽게 알 수 없는 경우가 된다.\n",
    "# 따라서 '알 수 없음' column을 제거하면, VIF를 없앨 수 있다.\n",
    "X_난자_출처 = pd.get_dummies(X, columns=['난자 출처'])[['난자 출처_본인 제공', '난자 출처_기증 제공']]\n",
    "X = pd.concat([X, X_난자_출처], axis=1)\n",
    "X_test_난자_출처 = pd.get_dummies(X_test, columns=['난자 출처'])[['난자 출처_본인 제공', '난자 출처_기증 제공']]\n",
    "X_test = pd.concat([X_test, X_test_난자_출처], axis=1)"
   ]
  },
  {
   "cell_type": "markdown",
   "metadata": {},
   "source": [
    "#### Feature Encoding - 정자 출처(54)"
   ]
  },
  {
   "cell_type": "code",
   "execution_count": 292,
   "metadata": {},
   "outputs": [],
   "source": [
    "# 난자 출처는 4가지 값(배우자 제공, 기증 제공, 미할당, 배우자 및 기증 제공)을 가지고 있다.\n",
    "# '배우자 제공'과 '기증 제공'을 기준으로 Multi-Label Encoding 진행.\n",
    "mlb = MultiLabelBinarizer()\n",
    "\n",
    "\n",
    "# 정규화를 위한 func\n",
    "def replace_semen_source(data: str) -> list:\n",
    "    if '및' in data:\n",
    "        return ['정자 출처_배우자 제공', '정자 출처_기증 제공']\n",
    "    elif '배우자' in data:\n",
    "        return ['정자 출처_배우자 제공']\n",
    "    elif '기증' in data:\n",
    "        return ['정자 출처_기증 제공']\n",
    "    else:\n",
    "        return []\n",
    "\n",
    "\n",
    "# 데이터 정규화\n",
    "X['정자 출처'] = X['정자 출처'].map(replace_semen_source)\n",
    "X_test['정자 출처'] = X_test['정자 출처'].map(replace_semen_source)\n",
    "\n",
    "# Multi-Label Encoding 진행 후 데이터프레임 병합\n",
    "X_encoded = mlb.fit_transform(X['정자 출처'])\n",
    "X = pd.concat([X, pd.DataFrame(X_encoded, columns=mlb.classes_).astype(bool)], axis=1)\n",
    "X_test_encoded = mlb.fit_transform(X_test['정자 출처'])\n",
    "X_test = pd.concat([X_test, pd.DataFrame(X_test_encoded, columns=mlb.classes_).astype(bool)], axis=1)"
   ]
  },
  {
   "cell_type": "code",
   "execution_count": 293,
   "metadata": {},
   "outputs": [],
   "source": [
    "# 데이터 drop에 사용할 column 이름 변수\n",
    "정자_출처_mlb_columns = mlb.classes_.tolist()"
   ]
  },
  {
   "cell_type": "markdown",
   "metadata": {},
   "source": [
    "#### Feature Encoding - 난자 기증자 나이(55), 정자 기증자 나이(56)"
   ]
  },
  {
   "cell_type": "code",
   "execution_count": 294,
   "metadata": {},
   "outputs": [],
   "source": [
    "# OrdinalEncodeing 방식을 위해 나이 순서대로 order 준비\n",
    "custom_order = ['알 수 없음', '만20세 이하', '만21-25세', '만26-30세', '만31-35세', '만36-40세', '만41-45세']\n",
    "\n",
    "# 나이(순서)를 반영하여 encoding 진행\n",
    "X['난자 기증자 나이'] = X['난자 기증자 나이'].apply(lambda x: custom_order.index(x))\n",
    "X['정자 기증자 나이'] = X['정자 기증자 나이'].apply(lambda x: custom_order.index(x))\n",
    "X_test['난자 기증자 나이'] = X_test['난자 기증자 나이'].apply(lambda x: custom_order.index(x))\n",
    "X_test['정자 기증자 나이'] = X_test['정자 기증자 나이'].apply(lambda x: custom_order.index(x))"
   ]
  },
  {
   "cell_type": "code",
   "execution_count": null,
   "metadata": {},
   "outputs": [],
   "source": []
  },
  {
   "cell_type": "markdown",
   "metadata": {},
   "source": [
    "### 4. Feature Removal"
   ]
  },
  {
   "cell_type": "code",
   "execution_count": 301,
   "metadata": {},
   "outputs": [],
   "source": [
    "# VIF 계산하는 함수 개선 필요\n",
    "def calculate_vif(df: pd.DataFrame):\n",
    "    df_numeric = df.select_dtypes(include=[\"number\"])\n",
    "    # df_categorical = df.select_dtypes(include=[\"object\"])\n",
    "    # df_encoded = pd.get_dummies(df_categorical, drop_first=True)\n",
    "    # df_final = pd.concat([df_numeric, df_encoded], axis=1)\n",
    "    df = df_numeric.fillna(df_numeric.mean())\n",
    "    \n",
    "    vif_data = pd.DataFrame()\n",
    "    vif_data[\"Feature\"] = df.columns\n",
    "    vif_data[\"VIF\"] = [vif_func(df.values, i) for i in range(df.shape[1])]\n",
    "    return vif_data.sort_values(by=\"VIF\", ascending=False)"
   ]
  },
  {
   "cell_type": "code",
   "execution_count": 302,
   "metadata": {},
   "outputs": [],
   "source": [
    "# VIF 계산\n",
    "vif_result = calculate_vif(X)"
   ]
  },
  {
   "cell_type": "code",
   "execution_count": null,
   "metadata": {},
   "outputs": [],
   "source": [
    "drop_features = [\n",
    "    vif_result.iloc[idx][0]\n",
    "    for idx in range(len(vif_result))\n",
    "    if vif_result.iloc[idx][1] >= 10\n",
    "]"
   ]
  },
  {
   "cell_type": "code",
   "execution_count": 303,
   "metadata": {},
   "outputs": [],
   "source": [
    "# 주석이 달린 컬럼만 모델 학습에 사용\n",
    "drop_features = [\n",
    "     'ID',\n",
    "    #  '시술 시기 코드',\n",
    "    #  '시술 당시 나이',\n",
    "    #  '임신 시도 또는 마지막 임신 경과 연수',\n",
    "    #  '시술 유형',\n",
    "     '특정 시술 유형',\n",
    "    #  '배란 자극 여부',\n",
    "     '배란 유도 유형',\n",
    "    #  '단일 배아 이식 여부',\n",
    "    #  '착상 전 유전 검사 사용 여부',\n",
    "    #  '착상 전 유전 진단 사용 여부',\n",
    "    #  '남성 주 불임 원인',\n",
    "    #  '남성 부 불임 원인',\n",
    "    #  '여성 주 불임 원인',\n",
    "    #  '여성 부 불임 원인',\n",
    "    #  '부부 주 불임 원인',\n",
    "    #  '부부 부 불임 원인',\n",
    "    #  '불명확 불임 원인',\n",
    "    #  '불임 원인 - 난관 질환',\n",
    "    #  '불임 원인 - 남성 요인',\n",
    "    #  '불임 원인 - 배란 장애',\n",
    "    #  '불임 원인 - 여성 요인',\n",
    "    #  '불임 원인 - 자궁경부 문제',\n",
    "    #  '불임 원인 - 자궁내막증',\n",
    "    #  '불임 원인 - 정자 농도',\n",
    "    #  '불임 원인 - 정자 면역학적 요인',\n",
    "    #  '불임 원인 - 정자 운동성',\n",
    "    #  '불임 원인 - 정자 형태',\n",
    "     '배아 생성 주요 이유',\n",
    "    #  '총 시술 횟수',\n",
    "     '클리닉 내 총 시술 횟수',\n",
    "     'IVF 시술 횟수',\n",
    "     'DI 시술 횟수',\n",
    "    #  '총 임신 횟수',\n",
    "     'IVF 임신 횟수',\n",
    "     'DI 임신 횟수',\n",
    "     '총 출산 횟수',\n",
    "     'IVF 출산 횟수',\n",
    "     'DI 출산 횟수',\n",
    "    #  '총 생성 배아 수',\n",
    "    #  '미세주입된 난자 수',\n",
    "    #  '미세주입에서 생성된 배아 수',\n",
    "    #  '이식된 배아 수',\n",
    "    #  '미세주입 배아 이식 수',\n",
    "    #  '저장된 배아 수',\n",
    "    #  '미세주입 후 저장된 배아 수',\n",
    "    #  '해동된 배아 수',\n",
    "    #  '해동 난자 수',\n",
    "    #  '수집된 신선 난자 수',\n",
    "    #  '저장된 신선 난자 수',\n",
    "    #  '혼합된 난자 수',\n",
    "    #  '파트너 정자와 혼합된 난자 수',\n",
    "    #  '기증자 정자와 혼합된 난자 수',\n",
    "     '난자 출처',\n",
    "     '정자 출처',\n",
    "    #  '난자 기증자 나이',\n",
    "    #  '정자 기증자 나이',\n",
    "    #  '동결 배아 사용 여부',\n",
    "    #  '신선 배아 사용 여부',\n",
    "    #  '기증 배아 사용 여부',\n",
    "    #  '대리모 여부',\n",
    "    #  'PGD 시술 여부',\n",
    "    #  'PGS 시술 여부',\n",
    "    #  '난자 채취 경과일',\n",
    "    #  '난자 해동 경과일',\n",
    "    #  '난자 혼합 경과일',\n",
    "    #  '배아 이식 경과일',\n",
    "    #  '배아 해동 경과일',\n",
    "    # '시술 대비 임신 성공률',\n",
    "    # *시술_유형_mlb_columns,\n",
    "    # *배아_생성_주요_이유_mlb_columns,\n",
    "    # '난자 출처_기증 제공',\n",
    "    # '난자 출처_본인 제공',\n",
    "    # *정자_출처_mlb_columns,\n",
    "]"
   ]
  },
  {
   "cell_type": "code",
   "execution_count": 304,
   "metadata": {},
   "outputs": [
    {
     "data": {
      "text/plain": [
       "['ID',\n",
       " '특정 시술 유형',\n",
       " '배란 유도 유형',\n",
       " '배아 생성 주요 이유',\n",
       " '클리닉 내 총 시술 횟수',\n",
       " 'IVF 시술 횟수',\n",
       " 'DI 시술 횟수',\n",
       " 'IVF 임신 횟수',\n",
       " 'DI 임신 횟수',\n",
       " '총 출산 횟수',\n",
       " 'IVF 출산 횟수',\n",
       " 'DI 출산 횟수',\n",
       " '난자 출처',\n",
       " '정자 출처']"
      ]
     },
     "execution_count": 304,
     "metadata": {},
     "output_type": "execute_result"
    }
   ],
   "source": [
    "drop_features"
   ]
  },
  {
   "cell_type": "code",
   "execution_count": 305,
   "metadata": {},
   "outputs": [],
   "source": [
    "X = X.drop(drop_features, axis=1)\n",
    "X_test = X_test.drop(drop_features, axis=1)"
   ]
  },
  {
   "cell_type": "markdown",
   "metadata": {},
   "source": [
    "# Hyperparameter Tuning"
   ]
  },
  {
   "cell_type": "code",
   "execution_count": 306,
   "metadata": {},
   "outputs": [],
   "source": [
    "# https://velog.io/@hyunicecream/GridSearchCV%EB%9E%80-%EC%96%B4%EB%96%BB%EA%B2%8C-%EC%82%AC%EC%9A%A9%ED%95%A0%EA%B9%8C"
   ]
  },
  {
   "cell_type": "code",
   "execution_count": 307,
   "metadata": {},
   "outputs": [],
   "source": [
    "def optimize() -> None:\n",
    "    return\n",
    "\n",
    "\n",
    "if DO_OPTIMIZATION:\n",
    "    optimize()"
   ]
  },
  {
   "cell_type": "markdown",
   "metadata": {},
   "source": [
    "# Modeling"
   ]
  },
  {
   "cell_type": "markdown",
   "metadata": {},
   "source": [
    "### 1. Import"
   ]
  },
  {
   "cell_type": "code",
   "execution_count": 314,
   "metadata": {},
   "outputs": [
    {
     "ename": "TypeError",
     "evalue": "C variable sklearn.utils._random.DEFAULT_SEED has wrong signature (expected __pyx_t_7sklearn_5utils_7_random_UINT32_t, got __pyx_t_7sklearn_5utils_9_typedefs_uint32_t)",
     "output_type": "error",
     "traceback": [
      "\u001b[1;31m---------------------------------------------------------------------------\u001b[0m",
      "\u001b[1;31mTypeError\u001b[0m                                 Traceback (most recent call last)",
      "Cell \u001b[1;32mIn[314], line 3\u001b[0m\n\u001b[0;32m      1\u001b[0m \u001b[38;5;66;03m# Model imports\u001b[39;00m\n\u001b[0;32m      2\u001b[0m \u001b[38;5;28;01mfrom\u001b[39;00m \u001b[38;5;21;01msklearn\u001b[39;00m\u001b[38;5;21;01m.\u001b[39;00m\u001b[38;5;21;01mbase\u001b[39;00m \u001b[38;5;28;01mimport\u001b[39;00m BaseEstimator\n\u001b[1;32m----> 3\u001b[0m \u001b[38;5;28;01mfrom\u001b[39;00m \u001b[38;5;21;01msklearn\u001b[39;00m\u001b[38;5;21;01m.\u001b[39;00m\u001b[38;5;21;01mensemble\u001b[39;00m \u001b[38;5;28;01mimport\u001b[39;00m AdaBoostClassifier, GradientBoostingClassifier, RandomForestClassifier\n\u001b[0;32m      4\u001b[0m \u001b[38;5;28;01mfrom\u001b[39;00m \u001b[38;5;21;01msklearn\u001b[39;00m\u001b[38;5;21;01m.\u001b[39;00m\u001b[38;5;21;01mlinear_model\u001b[39;00m \u001b[38;5;28;01mimport\u001b[39;00m LogisticRegression\n\u001b[0;32m      5\u001b[0m \u001b[38;5;28;01mfrom\u001b[39;00m \u001b[38;5;21;01msklearn\u001b[39;00m\u001b[38;5;21;01m.\u001b[39;00m\u001b[38;5;21;01msvm\u001b[39;00m \u001b[38;5;28;01mimport\u001b[39;00m SVC\n",
      "File \u001b[1;32m~\\anaconda3\\envs\\py310\\lib\\site-packages\\sklearn\\ensemble\\__init__.py:6\u001b[0m\n\u001b[0;32m      1\u001b[0m \u001b[38;5;124;03m\"\"\"Ensemble-based methods for classification, regression and anomaly detection.\"\"\"\u001b[39;00m\n\u001b[0;32m      3\u001b[0m \u001b[38;5;66;03m# Authors: The scikit-learn developers\u001b[39;00m\n\u001b[0;32m      4\u001b[0m \u001b[38;5;66;03m# SPDX-License-Identifier: BSD-3-Clause\u001b[39;00m\n\u001b[1;32m----> 6\u001b[0m \u001b[38;5;28;01mfrom\u001b[39;00m \u001b[38;5;21;01m.\u001b[39;00m\u001b[38;5;21;01m_bagging\u001b[39;00m \u001b[38;5;28;01mimport\u001b[39;00m BaggingClassifier, BaggingRegressor\n\u001b[0;32m      7\u001b[0m \u001b[38;5;28;01mfrom\u001b[39;00m \u001b[38;5;21;01m.\u001b[39;00m\u001b[38;5;21;01m_base\u001b[39;00m \u001b[38;5;28;01mimport\u001b[39;00m BaseEnsemble\n\u001b[0;32m      8\u001b[0m \u001b[38;5;28;01mfrom\u001b[39;00m \u001b[38;5;21;01m.\u001b[39;00m\u001b[38;5;21;01m_forest\u001b[39;00m \u001b[38;5;28;01mimport\u001b[39;00m (\n\u001b[0;32m      9\u001b[0m     ExtraTreesClassifier,\n\u001b[0;32m     10\u001b[0m     ExtraTreesRegressor,\n\u001b[1;32m   (...)\u001b[0m\n\u001b[0;32m     13\u001b[0m     RandomTreesEmbedding,\n\u001b[0;32m     14\u001b[0m )\n",
      "File \u001b[1;32m~\\anaconda3\\envs\\py310\\lib\\site-packages\\sklearn\\ensemble\\_bagging.py:18\u001b[0m\n\u001b[0;32m     16\u001b[0m \u001b[38;5;28;01mfrom\u001b[39;00m \u001b[38;5;21;01m.\u001b[39;00m\u001b[38;5;21;01m.\u001b[39;00m\u001b[38;5;21;01mbase\u001b[39;00m \u001b[38;5;28;01mimport\u001b[39;00m ClassifierMixin, RegressorMixin, _fit_context\n\u001b[0;32m     17\u001b[0m \u001b[38;5;28;01mfrom\u001b[39;00m \u001b[38;5;21;01m.\u001b[39;00m\u001b[38;5;21;01m.\u001b[39;00m\u001b[38;5;21;01mmetrics\u001b[39;00m \u001b[38;5;28;01mimport\u001b[39;00m accuracy_score, r2_score\n\u001b[1;32m---> 18\u001b[0m \u001b[38;5;28;01mfrom\u001b[39;00m \u001b[38;5;21;01m.\u001b[39;00m\u001b[38;5;21;01m.\u001b[39;00m\u001b[38;5;21;01mtree\u001b[39;00m \u001b[38;5;28;01mimport\u001b[39;00m DecisionTreeClassifier, DecisionTreeRegressor\n\u001b[0;32m     19\u001b[0m \u001b[38;5;28;01mfrom\u001b[39;00m \u001b[38;5;21;01m.\u001b[39;00m\u001b[38;5;21;01m.\u001b[39;00m\u001b[38;5;21;01mutils\u001b[39;00m \u001b[38;5;28;01mimport\u001b[39;00m (\n\u001b[0;32m     20\u001b[0m     Bunch,\n\u001b[0;32m     21\u001b[0m     _safe_indexing,\n\u001b[0;32m     22\u001b[0m     check_random_state,\n\u001b[0;32m     23\u001b[0m     column_or_1d,\n\u001b[0;32m     24\u001b[0m )\n\u001b[0;32m     25\u001b[0m \u001b[38;5;28;01mfrom\u001b[39;00m \u001b[38;5;21;01m.\u001b[39;00m\u001b[38;5;21;01m.\u001b[39;00m\u001b[38;5;21;01mutils\u001b[39;00m\u001b[38;5;21;01m.\u001b[39;00m\u001b[38;5;21;01m_mask\u001b[39;00m \u001b[38;5;28;01mimport\u001b[39;00m indices_to_mask\n",
      "File \u001b[1;32m~\\anaconda3\\envs\\py310\\lib\\site-packages\\sklearn\\tree\\__init__.py:6\u001b[0m\n\u001b[0;32m      1\u001b[0m \u001b[38;5;124;03m\"\"\"Decision tree based models for classification and regression.\"\"\"\u001b[39;00m\n\u001b[0;32m      3\u001b[0m \u001b[38;5;66;03m# Authors: The scikit-learn developers\u001b[39;00m\n\u001b[0;32m      4\u001b[0m \u001b[38;5;66;03m# SPDX-License-Identifier: BSD-3-Clause\u001b[39;00m\n\u001b[1;32m----> 6\u001b[0m \u001b[38;5;28;01mfrom\u001b[39;00m \u001b[38;5;21;01m.\u001b[39;00m\u001b[38;5;21;01m_classes\u001b[39;00m \u001b[38;5;28;01mimport\u001b[39;00m (\n\u001b[0;32m      7\u001b[0m     BaseDecisionTree,\n\u001b[0;32m      8\u001b[0m     DecisionTreeClassifier,\n\u001b[0;32m      9\u001b[0m     DecisionTreeRegressor,\n\u001b[0;32m     10\u001b[0m     ExtraTreeClassifier,\n\u001b[0;32m     11\u001b[0m     ExtraTreeRegressor,\n\u001b[0;32m     12\u001b[0m )\n\u001b[0;32m     13\u001b[0m \u001b[38;5;28;01mfrom\u001b[39;00m \u001b[38;5;21;01m.\u001b[39;00m\u001b[38;5;21;01m_export\u001b[39;00m \u001b[38;5;28;01mimport\u001b[39;00m export_graphviz, export_text, plot_tree\n\u001b[0;32m     15\u001b[0m __all__ \u001b[38;5;241m=\u001b[39m [\n\u001b[0;32m     16\u001b[0m     \u001b[38;5;124m\"\u001b[39m\u001b[38;5;124mBaseDecisionTree\u001b[39m\u001b[38;5;124m\"\u001b[39m,\n\u001b[0;32m     17\u001b[0m     \u001b[38;5;124m\"\u001b[39m\u001b[38;5;124mDecisionTreeClassifier\u001b[39m\u001b[38;5;124m\"\u001b[39m,\n\u001b[1;32m   (...)\u001b[0m\n\u001b[0;32m     23\u001b[0m     \u001b[38;5;124m\"\u001b[39m\u001b[38;5;124mexport_text\u001b[39m\u001b[38;5;124m\"\u001b[39m,\n\u001b[0;32m     24\u001b[0m ]\n",
      "File \u001b[1;32m~\\anaconda3\\envs\\py310\\lib\\site-packages\\sklearn\\tree\\_classes.py:40\u001b[0m\n\u001b[0;32m     31\u001b[0m \u001b[38;5;28;01mfrom\u001b[39;00m \u001b[38;5;21;01m.\u001b[39;00m\u001b[38;5;21;01m.\u001b[39;00m\u001b[38;5;21;01mutils\u001b[39;00m\u001b[38;5;21;01m.\u001b[39;00m\u001b[38;5;21;01mmulticlass\u001b[39;00m \u001b[38;5;28;01mimport\u001b[39;00m check_classification_targets\n\u001b[0;32m     32\u001b[0m \u001b[38;5;28;01mfrom\u001b[39;00m \u001b[38;5;21;01m.\u001b[39;00m\u001b[38;5;21;01m.\u001b[39;00m\u001b[38;5;21;01mutils\u001b[39;00m\u001b[38;5;21;01m.\u001b[39;00m\u001b[38;5;21;01mvalidation\u001b[39;00m \u001b[38;5;28;01mimport\u001b[39;00m (\n\u001b[0;32m     33\u001b[0m     _assert_all_finite_element_wise,\n\u001b[0;32m     34\u001b[0m     _check_n_features,\n\u001b[1;32m   (...)\u001b[0m\n\u001b[0;32m     38\u001b[0m     validate_data,\n\u001b[0;32m     39\u001b[0m )\n\u001b[1;32m---> 40\u001b[0m \u001b[38;5;28;01mfrom\u001b[39;00m \u001b[38;5;21;01m.\u001b[39;00m \u001b[38;5;28;01mimport\u001b[39;00m _criterion, _splitter, _tree\n\u001b[0;32m     41\u001b[0m \u001b[38;5;28;01mfrom\u001b[39;00m \u001b[38;5;21;01m.\u001b[39;00m\u001b[38;5;21;01m_criterion\u001b[39;00m \u001b[38;5;28;01mimport\u001b[39;00m Criterion\n\u001b[0;32m     42\u001b[0m \u001b[38;5;28;01mfrom\u001b[39;00m \u001b[38;5;21;01m.\u001b[39;00m\u001b[38;5;21;01m_splitter\u001b[39;00m \u001b[38;5;28;01mimport\u001b[39;00m Splitter\n",
      "File \u001b[1;32m~\\anaconda3\\envs\\py310\\lib\\site-packages\\sklearn\\tree\\_criterion.pyx:1\u001b[0m, in \u001b[0;36minit sklearn.tree._criterion\u001b[1;34m()\u001b[0m\n",
      "File \u001b[1;32m~\\anaconda3\\envs\\py310\\lib\\site-packages\\sklearn\\tree\\_splitter.pyx:1\u001b[0m, in \u001b[0;36minit sklearn.tree._splitter\u001b[1;34m()\u001b[0m\n",
      "File \u001b[1;32m~\\anaconda3\\envs\\py310\\lib\\site-packages\\sklearn\\tree\\_tree.pyx:1\u001b[0m, in \u001b[0;36minit sklearn.tree._tree\u001b[1;34m()\u001b[0m\n",
      "File \u001b[1;32m~\\anaconda3\\envs\\py310\\lib\\site-packages\\sklearn\\neighbors\\_quad_tree.pyx:1\u001b[0m, in \u001b[0;36minit sklearn.neighbors._quad_tree\u001b[1;34m()\u001b[0m\n",
      "File \u001b[1;32m~\\anaconda3\\envs\\py310\\lib\\site-packages\\sklearn\\tree\\_utils.pyx:1\u001b[0m, in \u001b[0;36minit sklearn.tree._utils\u001b[1;34m()\u001b[0m\n",
      "\u001b[1;31mTypeError\u001b[0m: C variable sklearn.utils._random.DEFAULT_SEED has wrong signature (expected __pyx_t_7sklearn_5utils_7_random_UINT32_t, got __pyx_t_7sklearn_5utils_9_typedefs_uint32_t)"
     ]
    }
   ],
   "source": [
    "# Model imports\n",
    "from sklearn.base import BaseEstimator\n",
    "from sklearn.ensemble import AdaBoostClassifier, GradientBoostingClassifier, RandomForestClassifier\n",
    "from sklearn.linear_model import LogisticRegression\n",
    "from sklearn.svm import SVC\n",
    "from sklearn.tree import DecisionTreeClassifier\n",
    "from catboost import CatBoostClassifier\n",
    "from lightgbm import LGBMClassifier\n",
    "from xgboost import XGBClassifier"
   ]
  },
  {
   "cell_type": "code",
   "execution_count": 312,
   "metadata": {},
   "outputs": [
    {
     "ename": "NameError",
     "evalue": "name 'AdaBoostClassifier' is not defined",
     "output_type": "error",
     "traceback": [
      "\u001b[1;31m---------------------------------------------------------------------------\u001b[0m",
      "\u001b[1;31mNameError\u001b[0m                                 Traceback (most recent call last)",
      "Cell \u001b[1;32mIn[312], line 2\u001b[0m\n\u001b[0;32m      1\u001b[0m clf_model_dict \u001b[38;5;241m=\u001b[39m {\n\u001b[1;32m----> 2\u001b[0m     \u001b[38;5;124m\"\u001b[39m\u001b[38;5;124madaboost\u001b[39m\u001b[38;5;124m\"\u001b[39m: \u001b[43mAdaBoostClassifier\u001b[49m(),\n\u001b[0;32m      3\u001b[0m     \u001b[38;5;124m\"\u001b[39m\u001b[38;5;124mgradient\u001b[39m\u001b[38;5;124m\"\u001b[39m: GradientBoostingClassifier(),\n\u001b[0;32m      4\u001b[0m     \u001b[38;5;124m\"\u001b[39m\u001b[38;5;124mrandom_forest\u001b[39m\u001b[38;5;124m\"\u001b[39m: RandomForestClassifier(),\n\u001b[0;32m      5\u001b[0m     \u001b[38;5;124m\"\u001b[39m\u001b[38;5;124mlasso\u001b[39m\u001b[38;5;124m\"\u001b[39m: LogisticRegression(penalty\u001b[38;5;241m=\u001b[39m\u001b[38;5;124m'\u001b[39m\u001b[38;5;124ml1\u001b[39m\u001b[38;5;124m'\u001b[39m, solver\u001b[38;5;241m=\u001b[39m\u001b[38;5;124m'\u001b[39m\u001b[38;5;124mliblinear\u001b[39m\u001b[38;5;124m'\u001b[39m),\n\u001b[0;32m      6\u001b[0m     \u001b[38;5;124m\"\u001b[39m\u001b[38;5;124mridge\u001b[39m\u001b[38;5;124m\"\u001b[39m: LogisticRegression(penalty\u001b[38;5;241m=\u001b[39m\u001b[38;5;124m'\u001b[39m\u001b[38;5;124ml2\u001b[39m\u001b[38;5;124m'\u001b[39m, solver\u001b[38;5;241m=\u001b[39m\u001b[38;5;124m'\u001b[39m\u001b[38;5;124mlbfgs\u001b[39m\u001b[38;5;124m'\u001b[39m),\n\u001b[0;32m      7\u001b[0m     \u001b[38;5;124m\"\u001b[39m\u001b[38;5;124msvc\u001b[39m\u001b[38;5;124m\"\u001b[39m: SVC(probability\u001b[38;5;241m=\u001b[39m\u001b[38;5;28;01mTrue\u001b[39;00m),\n\u001b[0;32m      8\u001b[0m     \u001b[38;5;124m\"\u001b[39m\u001b[38;5;124mdecision_tree\u001b[39m\u001b[38;5;124m\"\u001b[39m: DecisionTreeClassifier(),\n\u001b[0;32m      9\u001b[0m     \u001b[38;5;124m\"\u001b[39m\u001b[38;5;124mcatboost\u001b[39m\u001b[38;5;124m\"\u001b[39m: CatBoostClassifier(verbose\u001b[38;5;241m=\u001b[39m\u001b[38;5;28;01mFalse\u001b[39;00m),\n\u001b[0;32m     10\u001b[0m     \u001b[38;5;124m\"\u001b[39m\u001b[38;5;124mlgbm\u001b[39m\u001b[38;5;124m\"\u001b[39m: LGBMClassifier(),\n\u001b[0;32m     11\u001b[0m     \u001b[38;5;124m\"\u001b[39m\u001b[38;5;124mxgb\u001b[39m\u001b[38;5;124m\"\u001b[39m: XGBClassifier(),\n\u001b[0;32m     12\u001b[0m }\n",
      "\u001b[1;31mNameError\u001b[0m: name 'AdaBoostClassifier' is not defined"
     ]
    }
   ],
   "source": [
    "clf_model_dict = {\n",
    "    \"adaboost\": AdaBoostClassifier(),\n",
    "    \"gradient\": GradientBoostingClassifier(),\n",
    "    \"random_forest\": RandomForestClassifier(),\n",
    "    \"lasso\": LogisticRegression(penalty='l1', solver='liblinear'),\n",
    "    \"ridge\": LogisticRegression(penalty='l2', solver='lbfgs'),\n",
    "    \"svc\": SVC(probability=True),\n",
    "    \"decision_tree\": DecisionTreeClassifier(),\n",
    "    \"catboost\": CatBoostClassifier(verbose=False),\n",
    "    \"lgbm\": LGBMClassifier(),\n",
    "    \"xgb\": XGBClassifier(),\n",
    "}"
   ]
  },
  {
   "cell_type": "markdown",
   "metadata": {},
   "source": [
    "### 2. Training"
   ]
  },
  {
   "cell_type": "code",
   "execution_count": 28,
   "metadata": {},
   "outputs": [],
   "source": [
    "def eval(model: BaseEstimator, X: pd.DataFrame, y: pd.Series) -> tuple[float]:\n",
    "    y_pred = model.predict(X)\n",
    "    y_proba = model.predict_proba(X)[:,1]\n",
    "\n",
    "    # is CatBoostClassifier\n",
    "    if isinstance(y_pred[0], str):\n",
    "        accuracy = accuracy_score(y, y_pred)                        # 정확도\n",
    "        precision = precision_score(y, y_pred, pos_label='True')    # 정밀도\n",
    "        recall = recall_score(y, y_pred, pos_label='True')          # 재현율\n",
    "        f1 = f1_score(y, y_pred, pos_label='True')                  # F1 점수\n",
    "        roc_auc = roc_auc_score(y, y_proba)                         # ROC-AUC 점수\n",
    "        \n",
    "    else:\n",
    "        accuracy = accuracy_score(y, y_pred)      # 정확도\n",
    "        precision = precision_score(y, y_pred)    # 정밀도\n",
    "        recall = recall_score(y, y_pred)          # 재현율\n",
    "        f1 = f1_score(y, y_pred)                  # F1 점수\n",
    "        roc_auc = roc_auc_score(y, y_proba)       # ROC-AUC 점수\n",
    "    \n",
    "    return accuracy, precision, recall, f1, roc_auc"
   ]
  },
  {
   "cell_type": "markdown",
   "metadata": {},
   "source": [
    "### 3. Select Model"
   ]
  },
  {
   "cell_type": "code",
   "execution_count": 29,
   "metadata": {},
   "outputs": [],
   "source": [
    "model_name = \"catboost\"\n",
    "model = clf_model_dict[model_name]"
   ]
  },
  {
   "cell_type": "markdown",
   "metadata": {},
   "source": [
    "### 4. K-Fold Cross Validation"
   ]
  },
  {
   "cell_type": "code",
   "execution_count": 30,
   "metadata": {},
   "outputs": [
    {
     "name": "stdout",
     "output_type": "stream",
     "text": [
      "Accuracy (Fold 0): 0.7431101402352207\n",
      "Precision (Fold 0): 0.513255567338282\n",
      "Recall (Fold 0): 0.10961799788615431\n",
      "F1-Score (Fold 0): 0.18065318818040435\n",
      "ROC-AUC (Fold 0): 0.7223534645021539\n",
      "\n",
      "Accuracy (Fold 1): 0.7416812951043495\n",
      "Precision (Fold 1): 0.5001727115716753\n",
      "Recall (Fold 1): 0.10932427331068327\n",
      "F1-Score (Fold 1): 0.17942998760842627\n",
      "ROC-AUC (Fold 1): 0.7248826681895765\n",
      "\n",
      "Accuracy (Fold 2): 0.7426175151160522\n",
      "Precision (Fold 2): 0.5083875385142075\n",
      "Recall (Fold 2): 0.11211778029445074\n",
      "F1-Score (Fold 2): 0.18371891624396883\n",
      "ROC-AUC (Fold 2): 0.7228107414778727\n",
      "\n",
      "Accuracy (Fold 3): 0.7405695338404525\n",
      "Precision (Fold 3): 0.4907000338180588\n",
      "Recall (Fold 3): 0.109542503397252\n",
      "F1-Score (Fold 3): 0.17910263531444795\n",
      "ROC-AUC (Fold 3): 0.7215512775706969\n",
      "\n",
      "Accuracy (Fold 4): 0.7425980105324751\n",
      "Precision (Fold 4): 0.5086971955981541\n",
      "Recall (Fold 4): 0.10818360259701042\n",
      "F1-Score (Fold 4): 0.17842246155761687\n",
      "ROC-AUC (Fold 4): 0.7218957360671371\n",
      "\n",
      "Cross-Validation Average ROC-AUC Score: 0.7226987775614874\n"
     ]
    }
   ],
   "source": [
    "skf = StratifiedKFold(n_splits=5, shuffle=True, random_state=RANDOM_STATE)\n",
    "roc_auc_scores = []\n",
    "score_types = [\"Accuracy\", \"Precision\", \"Recall\", \"F1-Score\", \"ROC-AUC\"]\n",
    "\n",
    "for idx, (train_idx, test_idx) in enumerate(skf.split(X, y)):\n",
    "    X_train, y_train = X.iloc[train_idx], y.iloc[train_idx]\n",
    "    X_val, y_val = X.iloc[test_idx], y.iloc[test_idx]\n",
    "    \n",
    "    model.fit(X_train, y_train)\n",
    "    scores = eval(model, X_val, y_val)\n",
    "    roc_auc_scores.append(scores[-1])\n",
    "\n",
    "    for score_type, score in zip(score_types, scores):\n",
    "        print(f\"{score_type} (Fold {idx}): {score}\")\n",
    "    print()\n",
    "\n",
    "print(f\"Cross-Validation Average ROC-AUC Score: {np.mean(roc_auc_scores)}\")"
   ]
  },
  {
   "cell_type": "markdown",
   "metadata": {},
   "source": [
    "# Visualization"
   ]
  },
  {
   "cell_type": "markdown",
   "metadata": {},
   "source": [
    "### 1. Using Seaborn"
   ]
  },
  {
   "cell_type": "code",
   "execution_count": 31,
   "metadata": {},
   "outputs": [
    {
     "data": {
      "image/png": "[encoded data removed]",
      "text/plain": [
       "<Figure size 2000x1500 with 1 Axes>"
      ]
     },
     "metadata": {},
     "output_type": "display_data"
    }
   ],
   "source": [
    "feature_names = X.columns.tolist()\n",
    "plt.figure(figsize=(20,15))\n",
    "if isinstance(model, LogisticRegression):\n",
    "    sns.barplot(x=model.coef_[0], y=feature_names, palette=[ROYALBLUE])\n",
    "else:\n",
    "    sns.barplot(x=model.feature_importances_, y=feature_names, palette=[ROYALBLUE])"
   ]
  },
  {
   "cell_type": "markdown",
   "metadata": {},
   "source": [
    "### 2. DESC Feature Importances"
   ]
  },
  {
   "cell_type": "code",
   "execution_count": 32,
   "metadata": {},
   "outputs": [
    {
     "name": "stdout",
     "output_type": "stream",
     "text": [
      "1. 배아 이식 경과일 (39.28)\n",
      "2. 저장된 배아 수 (15.90)\n",
      "3. 해동된 배아 수 (9.86)\n",
      "4. 시술 당시 나이 (6.37)\n",
      "5. 저장된 신선 난자 수 (4.87)\n"
     ]
    }
   ],
   "source": [
    "importances = (\n",
    "    sorted(enumerate(model.coef_[0]), key=lambda x: x[1], reverse=True)[:5]\n",
    "    if isinstance(model, LogisticRegression)\n",
    "    else sorted(enumerate(model.feature_importances_), key=lambda x: x[1], reverse=True)[:5]\n",
    ")\n",
    "\n",
    "for idx, (col, score) in enumerate(importances, 1):\n",
    "    print(f\"{idx}. {X.columns.tolist()[col]} ({score:.2f})\")"
   ]
  },
  {
   "cell_type": "markdown",
   "metadata": {},
   "source": [
    "# Create Submission"
   ]
  },
  {
   "cell_type": "code",
   "execution_count": 33,
   "metadata": {},
   "outputs": [
    {
     "data": {
      "text/plain": [
       "probability\n",
       "0    84956\n",
       "1     5111\n",
       "Name: count, dtype: int64"
      ]
     },
     "execution_count": 33,
     "metadata": {},
     "output_type": "execute_result"
    }
   ],
   "source": [
    "# Final Submission\n",
    "model.fit(X, y)\n",
    "prediction = model.predict(X_test)\n",
    "df_submission = pd.DataFrame({'ID': df_test['ID'], 'probability': prediction})\n",
    "df_submission.to_csv(\"submission.csv\", index=False)\n",
    "df_submission['probability'].value_counts()"
   ]
  },
  {
   "cell_type": "code",
   "execution_count": null,
   "metadata": {},
   "outputs": [],
   "source": []
  },
  {
   "cell_type": "code",
   "execution_count": null,
   "metadata": {},
   "outputs": [],
   "source": []
  },
  {
   "cell_type": "code",
   "execution_count": null,
   "metadata": {},
   "outputs": [],
   "source": []
  },
  {
   "cell_type": "code",
   "execution_count": null,
   "metadata": {},
   "outputs": [],
   "source": []
  },
  {
   "cell_type": "code",
   "execution_count": null,
   "metadata": {},
   "outputs": [],
   "source": []
  }
 ],
 "metadata": {
  "kernelspec": {
   "display_name": "Python 3 (ipykernel)",
   "language": "python",
   "name": "python3"
  },
  "language_info": {
   "codemirror_mode": {
    "name": "ipython",
    "version": 3
   },
   "file_extension": ".py",
   "mimetype": "text/x-python",
   "name": "python",
   "nbconvert_exporter": "python",
   "pygments_lexer": "ipython3",
   "version": "3.10.16"
  }
 },
 "nbformat": 4,
 "nbformat_minor": 4
}
