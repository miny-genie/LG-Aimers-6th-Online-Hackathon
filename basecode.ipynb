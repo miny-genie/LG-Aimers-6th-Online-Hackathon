{
 "cells": [
  {
   "cell_type": "markdown",
   "metadata": {},
   "source": [
    "# Import Dataset and Libraries"
   ]
  },
  {
   "cell_type": "code",
   "execution_count": 1,
   "metadata": {},
   "outputs": [],
   "source": [
    "# Standarc library imports\n",
    "from collections import defaultdict\n",
    "from random import randrange\n",
    "from tqdm import tqdm\n",
    "from typing import Any\n",
    "import warnings\n",
    "\n",
    "# Third-party imports\n",
    "import matplotlib.pyplot as plt\n",
    "import numpy as np\n",
    "import pandas as pd\n",
    "import seaborn as sns\n",
    "\n",
    "# Scikit-learn imports\n",
    "from sklearn.compose import ColumnTransformer\n",
    "from sklearn.metrics import (\n",
    "    confusion_matrix, hamming_loss, jaccard_score,\n",
    "    accuracy_score, f1_score, precision_score, recall_score, roc_auc_score\n",
    ")\n",
    "from sklearn.model_selection import cross_val_score, StratifiedKFold, train_test_split\n",
    "from sklearn.pipeline import Pipeline\n",
    "from sklearn.preprocessing import LabelEncoder, OneHotEncoder, OrdinalEncoder, StandardScaler\n",
    "\n",
    "DO_OPTIMIZATION = False\n",
    "RANDOM_STATE = 42\n",
    "TEST_SIZE = 0.2\n",
    "ROYALBLUE = \"#4169E1\""
   ]
  },
  {
   "cell_type": "code",
   "execution_count": 2,
   "metadata": {},
   "outputs": [],
   "source": [
    "warnings.filterwarnings(action='ignore')    # 주피터 노트북 에러 로그 무시하는 코드\n",
    "plt.rc('font', family='Malgun Gothic')      # plt로 한글 폰트 사용하는 코드"
   ]
  },
  {
   "cell_type": "code",
   "execution_count": 29,
   "metadata": {},
   "outputs": [],
   "source": [
    "STD_PATH = \".\"\n",
    "TRAIN_FILE = f\"{STD_PATH}/train.csv\"\n",
    "TEST_FILE = f\"{STD_PATH}/test.csv\"\n",
    "\n",
    "df_train = pd.read_csv(TRAIN_FILE)\n",
    "df_test = pd.read_csv(TEST_FILE)\n",
    "\n",
    "is_pregnant = df_train.columns[-1]\n",
    "X, y = df_train.drop(is_pregnant, axis=1), df_train[is_pregnant]\n",
    "X_test = df_test.drop(is_pregnant, axis=1) if is_pregnant in df_test else df_test.copy()"
   ]
  },
  {
   "cell_type": "markdown",
   "metadata": {},
   "source": [
    "# EDA"
   ]
  },
  {
   "cell_type": "code",
   "execution_count": 4,
   "metadata": {},
   "outputs": [],
   "source": [
    "def draw_imbalance_barplot(df: pd.DataFrame, title: str, width: int=10, height: int=2) -> None:\n",
    "    df[title].value_counts().plot.bar(\n",
    "        color='royalblue',\n",
    "        figsize = (width, height),\n",
    "    )    \n",
    "    plt.title(title)\n",
    "    plt.xlabel(f\"{title} 컬럼의 데이터 종류\")\n",
    "    plt.ylabel('데이터 개수')\n",
    "    plt.grid(True, linestyle='--', linewidth=0.3, axis='y')\n",
    "    return"
   ]
  },
  {
   "cell_type": "code",
   "execution_count": 5,
   "metadata": {},
   "outputs": [
    {
     "data": {
      "image/png": "[encoded data removed]",
      "text/plain": [
       "<Figure size 1000x200 with 1 Axes>"
      ]
     },
     "metadata": {},
     "output_type": "display_data"
    }
   ],
   "source": [
    "# 테스트용 그래프 그리기(무작위 컬럼)\n",
    "random_column = X.columns.tolist()[randrange(1, len(X.columns.tolist()))]\n",
    "draw_imbalance_barplot(X, random_column)"
   ]
  },
  {
   "cell_type": "code",
   "execution_count": 6,
   "metadata": {},
   "outputs": [],
   "source": [
    "def draw_heatmap(df: pd.DataFrame, method: str='pearson', width: int=8, height: int=8) -> None:\n",
    "    # method: pearson(default), kendall, spearman\n",
    "    # interpolation: None(default), nearest, bilinear, bicubic, gaussian, hanning, hamming, lanczos, none\n",
    "    \n",
    "    corr_matrix = df.corr(method=method)\n",
    "    mask = np.triu(np.ones_like(corr_matrix, dtype=bool))    \n",
    "    plt.figure(figsize=(width, height))\n",
    "    sns.heatmap(corr_matrix, mask=mask, annot=True, fmt=\".2f\", cmap='coolwarm', square=True, linewidths=.5)\n",
    "    return"
   ]
  },
  {
   "cell_type": "code",
   "execution_count": 7,
   "metadata": {},
   "outputs": [],
   "source": [
    "# # 테스트용 그래프 그리기\n",
    "# draw_heatmap(X, width=50, height=50)"
   ]
  },
  {
   "cell_type": "code",
   "execution_count": 8,
   "metadata": {},
   "outputs": [],
   "source": [
    "# X.info()\n",
    "float64_columns = X.select_dtypes(include='float64').columns.tolist()\n",
    "int64_columns = X.select_dtypes(include='int64').columns.tolist()\n",
    "object_columns = X.select_dtypes(include='O').columns.tolist()"
   ]
  },
  {
   "cell_type": "markdown",
   "metadata": {},
   "source": [
    "# Data Preprocessing"
   ]
  },
  {
   "cell_type": "markdown",
   "metadata": {},
   "source": [
    "### 1. Feature Cleaning"
   ]
  },
  {
   "cell_type": "code",
   "execution_count": 9,
   "metadata": {},
   "outputs": [],
   "source": [
    "# \"\"\"\n",
    "# - Missing values(drop, mean, median, mode, KNNImputer, MICE)\n",
    "# - Outliers (IQR, log)\n",
    "# - Feature selection(remove duplicates, VIF)\n",
    "# \"\"\""
   ]
  },
  {
   "cell_type": "code",
   "execution_count": 10,
   "metadata": {},
   "outputs": [],
   "source": [
    "values = {\n",
    "    **{column: 0 for column in float64_columns},\n",
    "    **{column: 0 for column in int64_columns},\n",
    "    **{column: \"0\" for column in object_columns}\n",
    "}\n",
    "\n",
    "X.fillna(value=values, inplace=True)\n",
    "X_test.fillna(value=values, inplace=True)"
   ]
  },
  {
   "cell_type": "markdown",
   "metadata": {},
   "source": [
    "### 2. Feature Engineering"
   ]
  },
  {
   "cell_type": "code",
   "execution_count": 11,
   "metadata": {},
   "outputs": [],
   "source": [
    "# \"\"\"\n",
    "# - Feature Creation\n",
    "# - Feature Transformation(log, sqrt, min-max scaling)\n",
    "# - Feature Extraction(PCA, LDA, heatmap)\n",
    "# \"\"\""
   ]
  },
  {
   "cell_type": "code",
   "execution_count": null,
   "metadata": {},
   "outputs": [],
   "source": []
  },
  {
   "cell_type": "markdown",
   "metadata": {},
   "source": [
    "### 3. Feature Encoding"
   ]
  },
  {
   "cell_type": "code",
   "execution_count": 12,
   "metadata": {},
   "outputs": [],
   "source": [
    "# \"\"\"\n",
    "# - LabelEncoder, OneHotEncoder, OrdinalEncoder, StandardScaler\n",
    "# \"\"\""
   ]
  },
  {
   "cell_type": "code",
   "execution_count": 13,
   "metadata": {},
   "outputs": [],
   "source": [
    "encoder = OrdinalEncoder()\n",
    "\n",
    "X[object_columns] = encoder.fit_transform(X[object_columns])\n",
    "X_test[object_columns] = encoder.fit_transform(X_test[object_columns])"
   ]
  },
  {
   "cell_type": "markdown",
   "metadata": {},
   "source": [
    "### 4. Feature Removal"
   ]
  },
  {
   "cell_type": "code",
   "execution_count": 14,
   "metadata": {},
   "outputs": [],
   "source": [
    "# 주석이 달린 컬럼만 모델 학습에 사\n",
    "drop_features = [\n",
    "     'ID',\n",
    "     '시술 시기 코드',\n",
    "     # '시술 당시 나이',\n",
    "     '임신 시도 또는 마지막 임신 경과 연수',\n",
    "     '시술 유형',\n",
    "     '특정 시술 유형',\n",
    "     '배란 자극 여부',\n",
    "     '배란 유도 유형',\n",
    "     '단일 배아 이식 여부',\n",
    "     '착상 전 유전 검사 사용 여부',\n",
    "     '착상 전 유전 진단 사용 여부',\n",
    "     '남성 주 불임 원인',\n",
    "     '남성 부 불임 원인',\n",
    "     '여성 주 불임 원인',\n",
    "     '여성 부 불임 원인',\n",
    "     '부부 주 불임 원인',\n",
    "     '부부 부 불임 원인',\n",
    "     '불명확 불임 원인',\n",
    "     '불임 원인 - 난관 질환',\n",
    "     '불임 원인 - 남성 요인',\n",
    "     '불임 원인 - 배란 장애',\n",
    "     '불임 원인 - 여성 요인',\n",
    "     '불임 원인 - 자궁경부 문제',\n",
    "     '불임 원인 - 자궁내막증',\n",
    "     '불임 원인 - 정자 농도',\n",
    "     '불임 원인 - 정자 면역학적 요인',\n",
    "     '불임 원인 - 정자 운동성',\n",
    "     '불임 원인 - 정자 형태',\n",
    "     '배아 생성 주요 이유',\n",
    "     '총 시술 횟수',\n",
    "     '클리닉 내 총 시술 횟수',\n",
    "     'IVF 시술 횟수',\n",
    "     'DI 시술 횟수',\n",
    "     '총 임신 횟수',\n",
    "     'IVF 임신 횟수',\n",
    "     'DI 임신 횟수',\n",
    "     '총 출산 횟수',\n",
    "     'IVF 출산 횟수',\n",
    "     'DI 출산 횟수',\n",
    "     # '총 생성 배아 수',\n",
    "     '미세주입된 난자 수',\n",
    "     '미세주입에서 생성된 배아 수',\n",
    "     # '이식된 배아 수',\n",
    "     '미세주입 배아 이식 수',\n",
    "     # '저장된 배아 수',\n",
    "     '미세주입 후 저장된 배아 수',\n",
    "     '해동된 배아 수',\n",
    "     '해동 난자 수',\n",
    "     '수집된 신선 난자 수',\n",
    "     '저장된 신선 난자 수',\n",
    "     '혼합된 난자 수',\n",
    "     '파트너 정자와 혼합된 난자 수',\n",
    "     '기증자 정자와 혼합된 난자 수',\n",
    "     # '난자 출처',\n",
    "     '정자 출처',\n",
    "     '난자 기증자 나이',\n",
    "     '정자 기증자 나이',\n",
    "     '동결 배아 사용 여부',\n",
    "     '신선 배아 사용 여부',\n",
    "     '기증 배아 사용 여부',\n",
    "     '대리모 여부',\n",
    "     'PGD 시술 여부',\n",
    "     'PGS 시술 여부',\n",
    "     '난자 채취 경과일',\n",
    "     '난자 해동 경과일',\n",
    "     '난자 혼합 경과일',\n",
    "     # '배아 이식 경과일',\n",
    "     '배아 해동 경과일'\n",
    "]\n",
    "\n",
    "X = X.drop(drop_features, axis=1)\n",
    "X_test = X_test.drop(drop_features, axis=1)"
   ]
  },
  {
   "cell_type": "markdown",
   "metadata": {},
   "source": [
    "# Hyperparameter Tuning"
   ]
  },
  {
   "cell_type": "code",
   "execution_count": 15,
   "metadata": {},
   "outputs": [],
   "source": [
    "# https://velog.io/@hyunicecream/GridSearchCV%EB%9E%80-%EC%96%B4%EB%96%BB%EA%B2%8C-%EC%82%AC%EC%9A%A9%ED%95%A0%EA%B9%8C"
   ]
  },
  {
   "cell_type": "code",
   "execution_count": 16,
   "metadata": {},
   "outputs": [],
   "source": [
    "def optimize() -> None:\n",
    "    return\n",
    "\n",
    "\n",
    "if DO_OPTIMIZATION:\n",
    "    optimize()"
   ]
  },
  {
   "cell_type": "markdown",
   "metadata": {},
   "source": [
    "# Modeling"
   ]
  },
  {
   "cell_type": "markdown",
   "metadata": {},
   "source": [
    "### 1. Import"
   ]
  },
  {
   "cell_type": "code",
   "execution_count": 17,
   "metadata": {},
   "outputs": [],
   "source": [
    "# Model imports\n",
    "from sklearn.base import BaseEstimator\n",
    "from sklearn.ensemble import AdaBoostClassifier, GradientBoostingClassifier, RandomForestClassifier\n",
    "from sklearn.linear_model import LogisticRegression\n",
    "from sklearn.svm import SVC\n",
    "from sklearn.tree import DecisionTreeClassifier\n",
    "from catboost import CatBoostClassifier\n",
    "from lightgbm import LGBMClassifier\n",
    "from xgboost import XGBClassifier"
   ]
  },
  {
   "cell_type": "code",
   "execution_count": 18,
   "metadata": {},
   "outputs": [],
   "source": [
    "clf_model_dict = {\n",
    "    \"adaboost\": AdaBoostClassifier(),\n",
    "    \"gradient\": GradientBoostingClassifier(),\n",
    "    \"random_forest\": RandomForestClassifier(),\n",
    "    \"lasso\": LogisticRegression(penalty='l1', solver='liblinear'),\n",
    "    \"ridge\": LogisticRegression(penalty='l2', solver='lbfgs'),\n",
    "    \"svc\": SVC(probability=True),\n",
    "    \"decision_tree\": DecisionTreeClassifier(),\n",
    "    \"catboost\": CatBoostClassifier(verbose=False),\n",
    "    \"lgbm\": LGBMClassifier(),\n",
    "    \"xgb\": XGBClassifier(),\n",
    "}"
   ]
  },
  {
   "cell_type": "markdown",
   "metadata": {},
   "source": [
    "### 2. Training"
   ]
  },
  {
   "cell_type": "code",
   "execution_count": 19,
   "metadata": {},
   "outputs": [],
   "source": [
    "def eval(model: BaseEstimator, X: pd.DataFrame, y: pd.Series) -> tuple[float]:\n",
    "    y_pred = model.predict(X)\n",
    "    y_proba = model.predict_proba(X)[:,1]\n",
    "\n",
    "    # is CatBoostClassifier\n",
    "    if isinstance(y_pred[0], str):\n",
    "        accuracy = accuracy_score(y, y_pred)                        # 정확도\n",
    "        precision = precision_score(y, y_pred, pos_label='True')    # 정밀도\n",
    "        recall = recall_score(y, y_pred, pos_label='True')          # 재현율\n",
    "        f1 = f1_score(y, y_pred, pos_label='True')                  # F1 점수\n",
    "        roc_auc = roc_auc_score(y, y_proba)                         # ROC-AUC 점수\n",
    "        \n",
    "    else:\n",
    "        accuracy = accuracy_score(y, y_pred)      # 정확도\n",
    "        precision = precision_score(y, y_pred)    # 정밀도\n",
    "        recall = recall_score(y, y_pred)          # 재현율\n",
    "        f1 = f1_score(y, y_pred)                  # F1 점수\n",
    "        roc_auc = roc_auc_score(y, y_proba)       # ROC-AUC 점수\n",
    "    \n",
    "    return accuracy, precision, recall, f1, roc_auc"
   ]
  },
  {
   "cell_type": "markdown",
   "metadata": {},
   "source": [
    "### 3. Select Model"
   ]
  },
  {
   "cell_type": "code",
   "execution_count": 20,
   "metadata": {},
   "outputs": [],
   "source": [
    "model_name = \"catboost\"\n",
    "model = clf_model_dict[model_name]"
   ]
  },
  {
   "cell_type": "markdown",
   "metadata": {},
   "source": [
    "### 4. K-Fold Cross Validation"
   ]
  },
  {
   "cell_type": "code",
   "execution_count": 21,
   "metadata": {},
   "outputs": [
    {
     "name": "stdout",
     "output_type": "stream",
     "text": [
      "Accuracy (Fold 0): 0.7446899806908389\n",
      "Precision (Fold 0): 0.5279369627507163\n",
      "Recall (Fold 0): 0.11127887664200513\n",
      "F1-Score (Fold 0): 0.18381344307270234\n",
      "ROC-AUC (Fold 0): 0.7302875789081205\n",
      "\n",
      "Accuracy (Fold 1): 0.7426175151160522\n",
      "Precision (Fold 1): 0.5084922010398614\n",
      "Recall (Fold 1): 0.11075877689694225\n",
      "F1-Score (Fold 1): 0.1818970861748295\n",
      "ROC-AUC (Fold 1): 0.7332084259401971\n",
      "\n",
      "Accuracy (Fold 2): 0.7429490930368636\n",
      "Precision (Fold 2): 0.5113168724279835\n",
      "Recall (Fold 2): 0.11257078142695356\n",
      "F1-Score (Fold 2): 0.18451828475960647\n",
      "ROC-AUC (Fold 2): 0.731533982654812\n",
      "\n",
      "Accuracy (Fold 3): 0.7433391847084064\n",
      "Precision (Fold 3): 0.5143611753053813\n",
      "Recall (Fold 3): 0.11762041370979918\n",
      "F1-Score (Fold 3): 0.19145929339477727\n",
      "ROC-AUC (Fold 3): 0.7309398791465542\n",
      "\n",
      "Accuracy (Fold 4): 0.7440803588843378\n",
      "Precision (Fold 4): 0.5225713253882268\n",
      "Recall (Fold 4): 0.10924052544164276\n",
      "F1-Score (Fold 4): 0.18070558851077115\n",
      "ROC-AUC (Fold 4): 0.7326093677764617\n",
      "\n",
      "Cross-Validation Average ROC-AUC Score: 0.7317158468852292\n"
     ]
    }
   ],
   "source": [
    "skf = StratifiedKFold(n_splits=5, shuffle=True, random_state=RANDOM_STATE)\n",
    "roc_auc_scores = []\n",
    "score_types = [\"Accuracy\", \"Precision\", \"Recall\", \"F1-Score\", \"ROC-AUC\"]\n",
    "\n",
    "for idx, (train_idx, test_idx) in enumerate(skf.split(X, y)):\n",
    "    X_train, y_train = X.iloc[train_idx], y.iloc[train_idx]\n",
    "    X_val, y_val = X.iloc[test_idx], y.iloc[test_idx]\n",
    "    \n",
    "    model.fit(X_train, y_train)\n",
    "    scores = eval(model, X_val, y_val)\n",
    "    roc_auc_scores.append(scores[-1])\n",
    "\n",
    "    for score_type, score in zip(score_types, scores):\n",
    "        print(f\"{score_type} (Fold {idx}): {score}\")\n",
    "    print()\n",
    "\n",
    "print(f\"Cross-Validation Average ROC-AUC Score: {np.mean(roc_auc_scores)}\")"
   ]
  },
  {
   "cell_type": "markdown",
   "metadata": {},
   "source": [
    "# Visualization"
   ]
  },
  {
   "cell_type": "markdown",
   "metadata": {},
   "source": [
    "### 1. Using Seaborn"
   ]
  },
  {
   "cell_type": "code",
   "execution_count": 22,
   "metadata": {},
   "outputs": [
    {
     "data": {
      "image/png": "[encoded data removed]",
      "text/plain": [
       "<Figure size 2000x1500 with 1 Axes>"
      ]
     },
     "metadata": {},
     "output_type": "display_data"
    }
   ],
   "source": [
    "feature_names = X.columns.tolist()\n",
    "plt.figure(figsize=(20,15))\n",
    "if isinstance(model, LogisticRegression):\n",
    "    sns.barplot(x=model.coef_[0], y=feature_names, palette=[ROYALBLUE])\n",
    "else:\n",
    "    sns.barplot(x=model.feature_importances_, y=feature_names, palette=[ROYALBLUE])"
   ]
  },
  {
   "cell_type": "markdown",
   "metadata": {},
   "source": [
    "### 2. DESC Feature Importances"
   ]
  },
  {
   "cell_type": "code",
   "execution_count": 23,
   "metadata": {},
   "outputs": [
    {
     "name": "stdout",
     "output_type": "stream",
     "text": [
      "1. 이식된 배아 수 (53.55)\n",
      "2. 난자 출처 (13.02)\n",
      "3. 저장된 배아 수 (12.79)\n",
      "4. 총 생성 배아 수 (7.76)\n",
      "5. 시술 당시 나이 (6.89)\n"
     ]
    }
   ],
   "source": [
    "importances = (\n",
    "    sorted(enumerate(model.coef_[0]), key=lambda x: x[1], reverse=True)[:5]\n",
    "    if isinstance(model, LogisticRegression)\n",
    "    else sorted(enumerate(model.feature_importances_), key=lambda x: x[1], reverse=True)[:5]\n",
    ")\n",
    "\n",
    "for idx, (col, score) in enumerate(importances, 1):\n",
    "    print(f\"{idx}. {X.columns.tolist()[col]} ({score:.2f})\")"
   ]
  },
  {
   "cell_type": "markdown",
   "metadata": {},
   "source": [
    "# Create Submission"
   ]
  },
  {
   "cell_type": "code",
   "execution_count": 24,
   "metadata": {},
   "outputs": [
    {
     "data": {
      "text/plain": [
       "probability\n",
       "0    84970\n",
       "1     5097\n",
       "Name: count, dtype: int64"
      ]
     },
     "execution_count": 24,
     "metadata": {},
     "output_type": "execute_result"
    }
   ],
   "source": [
    "# Final Submission\n",
    "model.fit(X, y)\n",
    "prediction = model.predict(X_test)\n",
    "df_submission = pd.DataFrame({'ID': df_test['ID'], 'probability': prediction})\n",
    "df_submission.to_csv(\"submission.csv\", index=False)\n",
    "df_submission['probability'].value_counts()"
   ]
  },
  {
   "cell_type": "code",
   "execution_count": null,
   "metadata": {},
   "outputs": [],
   "source": []
  }
 ],
 "metadata": {
  "kernelspec": {
   "display_name": "Python 3 (ipykernel)",
   "language": "python",
   "name": "python3"
  },
  "language_info": {
   "codemirror_mode": {
    "name": "ipython",
    "version": 3
   },
   "file_extension": ".py",
   "mimetype": "text/x-python",
   "name": "python",
   "nbconvert_exporter": "python",
   "pygments_lexer": "ipython3",
   "version": "3.10.16"
  }
 },
 "nbformat": 4,
 "nbformat_minor": 4
}
